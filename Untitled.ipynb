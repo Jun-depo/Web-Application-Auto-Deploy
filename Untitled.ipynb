{
 "cells": [
  {
   "cell_type": "code",
   "execution_count": 2,
   "metadata": {},
   "outputs": [],
   "source": [
    "dd= {\n",
    "    \"Stacks\": [\n",
    "        {\n",
    "            \"StackId\": \"arn:aws:cloudformation:us-west-2:096897201607:stack/udapeople-cloudfront/e2e46b40-5923-11eb-8b79-0ad31c5039f3\",\n",
    "            \"StackName\": \"udapeople-cloudfront\",\n",
    "            \"ChangeSetId\": \"arn:aws:cloudformation:us-west-2:096897201607:changeSet/awscli-cloudformation-package-deploy-1610931678/7ee6d6ff-9d4f-4dba-8fac-005cf9191de3\",\n",
    "            \"Description\": \"Cloudfront distribution for UdaPeople.\\n\",\n",
    "            \"Parameters\": [\n",
    "                {\n",
    "                    \"ParameterKey\": \"WorkflowID\",\n",
    "                    \"ParameterValue\": \"617d86b\"\n",
    "                }\n",
    "            ],\n",
    "            \"CreationTime\": \"2021-01-18T00:27:03.148Z\",\n",
    "            \"LastUpdatedTime\": \"2021-01-18T01:01:25.055Z\",\n",
    "            \"RollbackConfiguration\": {},\n",
    "            \"StackStatus\": \"UPDATE_COMPLETE\",\n",
    "            \"DisableRollback\": False,\n",
    "            \"NotificationARNs\": [],\n",
    "            \"Tags\": [\n",
    "                {\n",
    "                    \"Key\": \"project\",\n",
    "                    \"Value\": \"udapeople\"\n",
    "                }\n",
    "            ],\n",
    "            \"EnableTerminationProtection\": False,\n",
    "            \"DriftInformation\": {\n",
    "                \"StackDriftStatus\": \"NOT_CHECKED\"\n",
    "            }\n",
    "        }\n",
    "    ]\n",
    "}\n"
   ]
  },
  {
   "cell_type": "code",
   "execution_count": 7,
   "metadata": {},
   "outputs": [
    {
     "data": {
      "text/plain": [
       "[{'ParameterKey': 'WorkflowID', 'ParameterValue': '617d86b'}]"
      ]
     },
     "execution_count": 7,
     "metadata": {},
     "output_type": "execute_result"
    }
   ],
   "source": [
    "dd[\"Stacks\"][0][\"Parameters\"][0]['ParameterValue']"
   ]
  },
  {
   "cell_type": "code",
   "execution_count": null,
   "metadata": {},
   "outputs": [],
   "source": []
  }
 ],
 "metadata": {
  "kernelspec": {
   "display_name": "Python 3",
   "language": "python",
   "name": "python3"
  },
  "language_info": {
   "codemirror_mode": {
    "name": "ipython",
    "version": 3
   },
   "file_extension": ".py",
   "mimetype": "text/x-python",
   "name": "python",
   "nbconvert_exporter": "python",
   "pygments_lexer": "ipython3",
   "version": "3.8.5"
  }
 },
 "nbformat": 4,
 "nbformat_minor": 4
}
